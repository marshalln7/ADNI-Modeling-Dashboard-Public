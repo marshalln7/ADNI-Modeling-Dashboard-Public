{
 "cells": [
  {
   "cell_type": "code",
   "execution_count": 1,
   "metadata": {},
   "outputs": [],
   "source": [
    "import pandas as pd"
   ]
  },
  {
   "cell_type": "code",
   "execution_count": 2,
   "metadata": {},
   "outputs": [
    {
     "name": "stdout",
     "output_type": "stream",
     "text": [
      "       PHASE    RID\n",
      "0      ADNI1      1\n",
      "1      ADNI1      2\n",
      "4603   ADNI3      2\n",
      "2399   ADNI2      2\n",
      "1585  ADNIGO      2\n",
      "...      ...    ...\n",
      "6487   ADNI4  10133\n",
      "6488   ADNI4  10134\n",
      "6489   ADNI4  10135\n",
      "6490   ADNI4  10136\n",
      "6491   ADNI4  10137\n",
      "\n",
      "[6492 rows x 2 columns]\n"
     ]
    }
   ],
   "source": [
    "# Create the catalog of which RIDS participated in which phase\n",
    "data = pd.read_csv(\"Datasets/Raw Data Files/ROSTER - Roster [ADNI1,GO,2,3,4].csv\")\n",
    "data = data[[\"PHASE\", \"RID\"]].sort_values(\"RID\")\n",
    "print(data)\n",
    "data.to_csv(\"Datasets/RIDS_Phase_Catalog.csv\")"
   ]
  },
  {
   "cell_type": "code",
   "execution_count": null,
   "metadata": {},
   "outputs": [
    {
     "name": "stderr",
     "output_type": "stream",
     "text": [
      "/tmp/ipykernel_61427/775417084.py:5: DtypeWarning: Columns (19,20,21,50,51,104,105,106) have mixed types. Specify dtype option on import or set low_memory=False.\n",
      "  adni_merge = pd.read_csv(\"Datasets/Raw Data Files/ADNIMERGE - Key ADNI tables merged into one table [ADNI1,GO,2,3].csv\")\n"
     ]
    }
   ],
   "source": [
    "current_labels_catalog = pd.read_csv(\"Dallan Work/visit_dx_combined_updated_old.csv\")\n",
    "current_labels_catalog.drop([\"Unnamed: 1\", \"RID.1\"], axis=1, inplace=True)\n",
    "\n",
    "# Add stuff from ADNI merge\n",
    "adni_merge = pd.read_csv(\"Datasets/Raw Data Files/ADNIMERGE - Key ADNI tables merged into one table [ADNI1,GO,2,3].csv\")\n",
    "adni_merge_interest = adni_merge[[\"RID\", \"DX\", \"ADAS13\", \"ADAS13_bl\", \"M\"]]\n",
    "adni_merge_interest = adni_merge_interest.rename(columns={\"M\": \"VISMONTH\"})\n",
    "adni_merge_interest[\"DX\"] = adni_merge_interest[\"DX\"].map({\"CN\": 1, \"MCI\": 2, \"Dementia\": 3})\n",
    "new_labels_catalog = current_labels_catalog.merge(adni_merge_interest, on=[\"RID\", \"VISMONTH\"], how=\"left\")\n",
    "\n",
    "# a VERY temporary solution here go back and clean this up sometime\n",
    "new_labels_catalog[\"DIAGNOSIS2\"] = new_labels_catalog[\"DIAGNOSIS\"]\n",
    "new_labels_catalog[\"DX2\"] = new_labels_catalog[\"DX\"]\n",
    "\n",
    "new_labels_catalog.to_csv(\"Dallan Work/visit_dx_combined_updated.csv\", index=False)"
   ]
  },
  {
   "cell_type": "code",
   "execution_count": null,
   "metadata": {},
   "outputs": [
    {
     "name": "stdout",
     "output_type": "stream",
     "text": [
      "Correlation: 0.9980181360333971\n",
      "Mismatched pairs:\n",
      "         TOTAL13  ADAS13\n",
      "202     8.000000   13.00\n",
      "308    21.000000   20.00\n",
      "332     7.750000    3.00\n",
      "774     6.665000    7.00\n",
      "962     7.886667    5.00\n",
      "...          ...     ...\n",
      "17720  21.330000   23.33\n",
      "17734  27.330000   28.33\n",
      "17755   5.000000   15.00\n",
      "17804   5.670000   16.67\n",
      "17806  11.330000   21.67\n",
      "\n",
      "[224 rows x 2 columns]\n"
     ]
    }
   ],
   "source": [
    "# If you want to check on if two of your columns are actually the same\n",
    "\n",
    "def column_correlation_and_mismatches(df, col1, col2):\n",
    "    # Drop NaNs for correlation calculation\n",
    "    clean_df = df[[col1, col2]].dropna()\n",
    "    correlation = clean_df.corr().iloc[0, 1]\n",
    "    \n",
    "    # Find mismatched pairs\n",
    "    mismatches = clean_df[clean_df[col1] != clean_df[col2]]\n",
    "\n",
    "    return correlation, mismatches\n",
    "\n",
    "# Example usage\n",
    "data = {\n",
    "    'A': [1, 2, 3, 4, None, 6, 7],\n",
    "    'B': [1, 4, None, 4, 10, 12, 7]\n",
    "}\n",
    "df = pd.DataFrame(data)\n",
    "\n",
    "correlation, mismatches = column_correlation_and_mismatches(new_labels_catalog, 'TOTAL13', 'ADAS13')\n",
    "print(f'Correlation: {correlation}')\n",
    "print('Mismatched pairs:')\n",
    "print(mismatches)\n"
   ]
  }
 ],
 "metadata": {
  "kernelspec": {
   "display_name": "mashspud",
   "language": "python",
   "name": "python3"
  },
  "language_info": {
   "codemirror_mode": {
    "name": "ipython",
    "version": 3
   },
   "file_extension": ".py",
   "mimetype": "text/x-python",
   "name": "python",
   "nbconvert_exporter": "python",
   "pygments_lexer": "ipython3",
   "version": "3.12.2"
  }
 },
 "nbformat": 4,
 "nbformat_minor": 2
}
