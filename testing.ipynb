{
 "cells": [
  {
   "cell_type": "code",
   "execution_count": 42,
   "metadata": {},
   "outputs": [
    {
     "name": "stdout",
     "output_type": "stream",
     "text": [
      "[[4.33 6.33 6.   ...  nan  nan  nan]\n",
      " [3.67 4.   2.67 ...  nan  nan  nan]\n",
      " [7.33 6.67 8.33 ...  nan  nan  nan]\n",
      " ...\n",
      " [2.67 2.33 4.   ...  nan  nan  nan]\n",
      " [4.   3.67 3.33 ...  nan  nan  nan]\n",
      " [5.   5.67 5.67 ...  nan  nan  nan]]\n"
     ]
    }
   ],
   "source": [
    "import pickle\n",
    "import os\n",
    "import pandas as pd\n",
    "import numpy as np\n",
    "\n",
    "\"\"\"\n",
    "This script takes the progressions dataset saved previously and reconstructs it into a numpy array where each\n",
    "row is an RID and each column is a certain measurement on a certain visit.\n",
    "The array is going to have a lot of NaNs in it since some of the patients have more visits than others.\n",
    "\"\"\"\n",
    "\n",
    "# Define the path to the pickle file\n",
    "file_path = os.path.join('Datasets', 'Embeddings', 'your_pickle_file.pkl')\n",
    "\n",
    "# Load the pickle file\n",
    "with open('Datasets/Distance Matricies/Progression Variables 2024-11-09_DX_bl_wrapped euclidean_selection-ADNI1_2025-Jan-21-@-01-44/distances.pkl', 'rb') as file:\n",
    "    ADNI_ds = pickle.load(file)\n",
    "\n",
    "df = ADNI_ds.progressions_dataframe\n",
    "\n",
    "# Group by RID and re-index each group to the maximum size\n",
    "grouped = df.groupby('RID')\n",
    "max_size = grouped.size().max()\n",
    "\n",
    "# Apply reindex to ensure uniform size for all groups\n",
    "reindexed = grouped.apply(\n",
    "    lambda x: x.reset_index(drop=True).reindex(range(max_size))\n",
    ")\n",
    "\n",
    "# Reshape to wide format\n",
    "reshaped = reindexed.unstack()\n",
    "\n",
    "# Convert MultiIndex column tuples into just string column labels\n",
    "reshaped.columns = ['{}_{}'.format(col, i) for col, i in reshaped.columns]\n",
    "\n",
    "reshaped = np.array(reshaped)\n",
    "\n",
    "print(reshaped)\n",
    "\n"
   ]
  },
  {
   "cell_type": "code",
   "execution_count": 2,
   "metadata": {},
   "outputs": [
    {
     "name": "stdout",
     "output_type": "stream",
     "text": [
      "[['a', 0], ['a', 1], ['a', 2], ['a', 3], ['b', 0], ['b', 1], ['b', 2], ['b', 3], ['c', 0], ['c', 1], ['c', 2], ['c', 3], ['d', 0], ['d', 1], ['d', 2], ['d', 3]]\n"
     ]
    }
   ],
   "source": [
    "print([[letter, number] for letter in 'abcd' for number in range(4)])"
   ]
  }
 ],
 "metadata": {
  "kernelspec": {
   "display_name": "autoencoders",
   "language": "python",
   "name": "python3"
  },
  "language_info": {
   "codemirror_mode": {
    "name": "ipython",
    "version": 3
   },
   "file_extension": ".py",
   "mimetype": "text/x-python",
   "name": "python",
   "nbconvert_exporter": "python",
   "pygments_lexer": "ipython3",
   "version": "3.12.2"
  }
 },
 "nbformat": 4,
 "nbformat_minor": 2
}
